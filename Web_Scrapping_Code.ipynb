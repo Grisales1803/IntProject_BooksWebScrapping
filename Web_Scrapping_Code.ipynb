{
 "cells": [
  {
   "cell_type": "code",
   "execution_count": 2,
   "metadata": {},
   "outputs": [],
   "source": [
    "#Import request and BeautifulSoup from bs4\n",
    "\n",
    "import requests\n",
    "from bs4 import BeautifulSoup"
   ]
  },
  {
   "cell_type": "code",
   "execution_count": 5,
   "metadata": {},
   "outputs": [],
   "source": [
    "# We store the entire HTML code of the page in the 'page' variable\n",
    "page = requests.get('https://www.cuspide.com/cienmasvendidos').text\n",
    "\n",
    "# We parse the HTML code using the 'html.parser' instruction of BeautifulSoup\n",
    "soup = BeautifulSoup(page, \"html.parser\")"
   ]
  },
  {
   "cell_type": "code",
   "execution_count": 17,
   "metadata": {},
   "outputs": [
    {
     "data": {
      "text/plain": [
       "<article>\n",
       "<figure id=\"ctl00_ContentPlaceHolder1_top100UC_rptMasVendidos_ctl00_figContainer\">\n",
       "<div class=\"\" id=\"ctl00_ContentPlaceHolder1_top100UC_rptMasVendidos_ctl00_divContainer\">\n",
       "<a href=\"/Libro/9788484456810/Este+Dolor+No+Es+Mio\" id=\"ctl00_ContentPlaceHolder1_top100UC_rptMasVendidos_ctl00_a_tapa_libro\" title=\"Este Dolor No Es Mio\">\n",
       "<img alt=\" Este Dolor No Es Mio\" class=\"lazy\" data-original=\"https://contentv2.tap-commerce.com/cover/medium/9788484456810_1.jpg?id_com=1113&amp;w=220\" id=\"ctl00_ContentPlaceHolder1_top100UC_rptMasVendidos_ctl00_img_tapa\" tapacomunidadsize=\"2\" title=\"Este Dolor No Es Mio\">\n",
       "<noscript>\n",
       "<img id=\"ctl00_ContentPlaceHolder1_top100UC_rptMasVendidos_ctl00_img_tapa_noscript\" tapacomunidadsize=\"2\" title=\"Este Dolor No Es Mio\">\n",
       "</img></noscript>\n",
       "</img></a>\n",
       "</div>\n",
       "</figure>\n",
       "</article>"
      ]
     },
     "execution_count": 17,
     "metadata": {},
     "output_type": "execute_result"
    }
   ],
   "source": [
    "# We obtain the book 1\n",
    "articulo1 = soup.section.div.article\n",
    "articulo1"
   ]
  },
  {
   "cell_type": "code",
   "execution_count": 22,
   "metadata": {},
   "outputs": [],
   "source": [
    "# We store all the 'Article' sections in the 'articles' variable\n",
    "articles = soup.find_all('article')"
   ]
  },
  {
   "cell_type": "code",
   "execution_count": 25,
   "metadata": {},
   "outputs": [],
   "source": [
    "# TITLE OF EACH BOOK and URL\n",
    "# We use a for loop to iterate through all the articles and extract their titles\n",
    "titulos = []\n",
    "urls = []\n",
    "for article in articles:\n",
    "    titulos.append(article.find('a')['title'])\n",
    "    urls.append(article.find('a')['href'])\n"
   ]
  },
  {
   "cell_type": "code",
   "execution_count": 29,
   "metadata": {},
   "outputs": [
    {
     "data": {
      "text/plain": [
       "['Este Dolor No Es Mio',\n",
       " 'Una Familia Anormal',\n",
       " 'La Ultima Encrucijada',\n",
       " 'Born Y Quieto',\n",
       " 'El Viento Conoce Mi Nombre',\n",
       " 'Pato Horneado Y El Rescate En La Jungla',\n",
       " 'Gaturro Messi',\n",
       " 'Nosotros Dos En La Tormenta',\n",
       " 'Pais De Mierda',\n",
       " 'El Hombre En Busca De Sentido',\n",
       " 'La Scaloneta',\n",
       " 'Solitario',\n",
       " 'El Poder De Las Palabras',\n",
       " 'Habitos Atomicos',\n",
       " 'Alas De Sangre',\n",
       " 'Tengase Presente',\n",
       " 'La Vaca No Se Calla',\n",
       " 'El Amor Es Imposible',\n",
       " 'Conurbano Salvaje',\n",
       " 'Un Cuento Perfecto',\n",
       " 'El Duelo ( Cuando El Dolor Se Hace Carne )',\n",
       " 'Heartstopper',\n",
       " 'Este Invierno',\n",
       " 'Los Cuatro Acuerdos',\n",
       " 'La Aventura',\n",
       " 'Dibu Martinez : Pasion Por El Futbol',\n",
       " 'Mis Dias En La Libreria Morisaki',\n",
       " 'Messi , Campeon Del Mundo',\n",
       " 'Antes De Que Se Enfrie El Cafe',\n",
       " 'Adios Cachorra',\n",
       " 'Los Guemes',\n",
       " 'Muchas Vidas , Muchos Maestros',\n",
       " 'La Biblioteca De La Medianoche',\n",
       " 'Las Cosas Que Perdimos En El Fuego',\n",
       " 'La Cancion De Aquiles',\n",
       " 'Heartstopper 2',\n",
       " 'Cometierra 10 Edic',\n",
       " 'El Secreto De Paris',\n",
       " 'Los Siete Maridos De Evelyn Hugo',\n",
       " 'Destroza Este Diario ( A Todo Color )',\n",
       " 'Las Aventuras De Lyna Y Dani : Elige Tu Historia',\n",
       " 'Sarmiento',\n",
       " 'Apia De Roma',\n",
       " 'Conocer A Peron',\n",
       " 'El Camino Del Artista',\n",
       " 'Heartstopper 3',\n",
       " 'Los Peligros De Fumar En La Cama',\n",
       " 'La Felicidad Cabe En Una Taza De Cafe',\n",
       " 'Como Ganar Amigos E Influir Sobre Las Personas',\n",
       " 'Una Luna Sin Miel',\n",
       " 'Heartstopper 1  Edicion Especial',\n",
       " 'De Donde Vienen',\n",
       " 'Mejor Que En Las Peliculas',\n",
       " 'Miseria',\n",
       " 'Steve Jobs  Lecciones De Liderazgo',\n",
       " 'Sana A Tus Antepasados Para Sanar Tu Vida',\n",
       " 'Elementos',\n",
       " 'A Jugar Con Los Campeones',\n",
       " 'Nick Y Charlie',\n",
       " 'La Bailarina De Auschwitz',\n",
       " 'Los Arboles Caidos Tambien Son Del Bosque.',\n",
       " 'El Monje Que Vendio Su Ferrari',\n",
       " 'Gaturro Campeones !!',\n",
       " 'Ikigai  Vintage',\n",
       " 'Desde La Boca',\n",
       " 'Todo Lo Que Nunca Fuimos  ( Deja Que Ocurra 1 )_',\n",
       " 'Messi Crack',\n",
       " 'Los Vestidos Amy - Stickers',\n",
       " 'La Interlengua',\n",
       " 'Te Espero En El Fin Del Mundo',\n",
       " 'Un Ratito Mas',\n",
       " 'La Revolucion De La Glucosa',\n",
       " 'Esta No Soy Yo',\n",
       " 'Fortuna',\n",
       " 'El Club De Las 5 De La Mañana',\n",
       " '1. Harry Potter Y La Piedra Filosofal ( Bolsillo )',\n",
       " 'Heartstopper 4',\n",
       " 'El Nudo',\n",
       " \"3. Five Nights At Freddy'S ( Escalofrios De Fazbear )\",\n",
       " 'Compas 9  Los Compas Y El Despertar De La Momia',\n",
       " 'Codigo Civil Y Comercial De La Nacion 2023 ( Universitario )',\n",
       " 'Blanca La Ni/A Que Queria Volar',\n",
       " 'Nuestra Parte De Noche',\n",
       " 'El Gato Y La Ciudad',\n",
       " 'El Diablo',\n",
       " 'La Ridicula Idea De No Volver A Verte',\n",
       " 'Los 7 Habitos De La Gente Altamente Efectiva (30 Aniversario)',\n",
       " 'Tus Zonas Erroneas',\n",
       " 'El Planner De Lyna',\n",
       " 'El Tiempo De Las Moscas',\n",
       " 'La Segunda Venida De Hilda Bustamante']"
      ]
     },
     "execution_count": 29,
     "metadata": {},
     "output_type": "execute_result"
    }
   ],
   "source": [
    "titulos"
   ]
  },
  {
   "cell_type": "code",
   "execution_count": 30,
   "metadata": {},
   "outputs": [
    {
     "data": {
      "text/plain": [
       "['/Libro/9788484456810/Este+Dolor+No+Es+Mio',\n",
       " '/Libro/9789877364262/Una+Familia+Anormal',\n",
       " '/Libro/9789504977384/La+Ultima+Encrucijada',\n",
       " '/Libro/9789504979456/Born+Y+Quieto',\n",
       " '/Libro/9789500769013/El+Viento+Conoce+Mi+Nombre',\n",
       " '/Libro/9789508701985/Pato+Horneado+Y+El+Rescate+En+La+Jungla',\n",
       " '/Libro/9789878151885/Gaturro+Messi',\n",
       " '/Libro/9789878266374/Nosotros+Dos+En+La+Tormenta',\n",
       " '/Libro/9789877188158/Pais+De+Mierda',\n",
       " '/Libro/9788425432026/El+Hombre+En+Busca+De+Sentido',\n",
       " '/Libro/9789878151632/La+Scaloneta',\n",
       " '/Libro/9789877478877/Solitario',\n",
       " '/Libro/9789877950465/El+Poder+De+Las+Palabras',\n",
       " '/Libro/9789501298321/Habitos+Atomicos',\n",
       " '/Libro/9789504982982/Alas+De+Sangre',\n",
       " '/Libro/9789504982067/Tengase+Presente',\n",
       " '/Libro/9789500213998/La+Vaca+No+Se+Calla',\n",
       " '/Libro/9789501204070/El+Amor+Es+Imposible',\n",
       " '/Libro/9789500769228/Conurbano+Salvaje',\n",
       " '/Libro/9789877391695/Un+Cuento+Perfecto',\n",
       " '/Libro/9789878220079/El+Duelo+(+Cuando+El+Dolor+Se+Hace+Carne+)',\n",
       " '/Libro/9789877475876/Heartstopper',\n",
       " '/Libro/9789877479102/Este+Invierno',\n",
       " '/Libro/9789507880223/Los+Cuatro+Acuerdos',\n",
       " '/Libro/9789506446840/La+Aventura',\n",
       " '/Libro/9789878940182/Dibu+Martinez+++Pasion+Por+El+Futbol',\n",
       " '/Libro/9789874892508/Mis+Dias+En+La+Libreria+Morisaki',\n",
       " '/Libro/9789878151335/Messi+++Campeon+Del+Mundo',\n",
       " '/Libro/9789506446567/Antes+De+Que+Se+Enfrie+El+Cafe',\n",
       " '/Libro/9789504979395/Adios+Cachorra',\n",
       " '/Libro/9789504979043/Los+Guemes',\n",
       " '/Libro/9789877801750/Muchas+Vidas+++Muchos+Maestros',\n",
       " '/Libro/9788413621654/La+Biblioteca+De+La+Medianoche',\n",
       " '/Libro/9788433998064/Las+Cosas+Que+Perdimos+En+El+Fuego',\n",
       " '/Libro/9788413622132/La+Cancion+De+Aquiles',\n",
       " '/Libro/9789877476583/Heartstopper+2',\n",
       " '/Libro/9789874063656/Cometierra+10+Edic',\n",
       " '/Libro/9789878474670/El+Secreto+De+Paris',\n",
       " '/Libro/9789874777737/Los+Siete+Maridos+De+Evelyn+Hugo',\n",
       " '/Libro/9789501296808/Destroza+Este+Diario+(+A+Todo+Color+)',\n",
       " '/Libro/9789877364026/Las+Aventuras+De+Lyna+Y+Dani+++Elige+Tu+Historia',\n",
       " '/Libro/9789500768757/Sarmiento',\n",
       " '/Libro/9789504981107/Apia+De+Roma',\n",
       " '/Libro/9789504978251/Conocer+A+Peron',\n",
       " '/Libro/9789877352306/El+Camino+Del+Artista',\n",
       " '/Libro/9789877476972/Heartstopper+3',\n",
       " '/Libro/9788433998248/Los+Peligros+De+Fumar+En+La+Cama',\n",
       " '/Libro/9789506446758/La+Felicidad+Cabe+En+Una+Taza+De+Cafe',\n",
       " '/Libro/9789875661318/Como+Ganar+Amigos+E+Influir+Sobre+Las+Personas',\n",
       " '/Libro/9789877478235/Una+Luna+Sin+Miel',\n",
       " '/Libro/9786313000319/Heartstopper+1++Edicion+Especial',\n",
       " '/Libro/9789877353150/De+Donde+Vienen',\n",
       " '/Libro/9789878977560/Mejor+Que+En+Las+Peliculas',\n",
       " '/Libro/9789878266176/Miseria',\n",
       " '/Libro/9789871786954/Steve+Jobs++Lecciones+De+Liderazgo',\n",
       " '/Libro/9789873881602/Sana+A+Tus+Antepasados+Para+Sanar+Tu+Vida',\n",
       " '/Libro/9789878204284/Elementos',\n",
       " '/Libro/9789878988528/A+Jugar+Con+Los+Campeones',\n",
       " '/Libro/9789877478242/Nick+Y+Charlie',\n",
       " '/Libro/9789504962137/La+Bailarina+De+Auschwitz',\n",
       " '/Libro/9789874729309/Los+Arboles+Caidos+Tambien+Son+Del+Bosque',\n",
       " '/Libro/9789502814919/El+Monje+Que+Vendio+Su+Ferrari',\n",
       " '/Libro/9789878151373/Gaturro+Campeones',\n",
       " '/Libro/9789507883774/Ikigai++Vintage',\n",
       " '/Libro/9786316508164/Desde+La+Boca',\n",
       " '/Libro/9789878435435/Todo+Lo+Que+Nunca+Fuimos++(+Deja+Que+Ocurra+1+)_',\n",
       " '/Libro/9788419743237/Messi+Crack',\n",
       " '/Libro/9789876128506/Los+Vestidos+Amy+-+Stickers',\n",
       " '/Libro/9789878473833/La+Interlengua',\n",
       " '/Libro/9789507325878/Te+Espero+En+El+Fin+Del+Mundo',\n",
       " '/Libro/9789502816272/Un+Ratito+Mas',\n",
       " '/Libro/9789871524525/La+Revolucion+De+La+Glucosa',\n",
       " '/Libro/9789876707800/Esta+No+Soy+Yo',\n",
       " '/Libro/9788433901927/Fortuna',\n",
       " '/Libro/9789877254990/El+Club+De+Las+5+De+La+Ma%c3%b1ana',\n",
       " '/Libro/9789878000107/1++Harry+Potter+Y+La+Piedra+Filosofal+(+Bolsillo+)',\n",
       " '/Libro/9789877477474/Heartstopper+4',\n",
       " '/Libro/9789504981015/El+Nudo',\n",
       " '/Libro/9788419743305/3++Five+Nights+At+Freddy+S+(+Escalofrios+De+Fazbear+)',\n",
       " '/Libro/9789508702296/Compas+9++Los+Compas+Y+El+Despertar+De+La+Momia',\n",
       " '/Libro/9789877933611/Codigo+Civil+Y+Comercial+De+La+Nacion+2023+(+Universitario+)',\n",
       " '/Libro/9789504979050/Blanca+La+Ni+A+Que+Queria+Volar',\n",
       " '/Libro/9788433998859/Nuestra+Parte+De+Noche',\n",
       " '/Libro/9789878289953/El+Gato+Y+La+Ciudad',\n",
       " '/Libro/9789504982791/El+Diablo',\n",
       " '/Libro/9789875807020/La+Ridicula+Idea+De+No+Volver+A+Verte',\n",
       " '/Libro/9789501206579/Los+7+Habitos+De+La+Gente+Altamente+Efectiva+(30+Aniversario)',\n",
       " '/Libro/9789871138715/Tus+Zonas+Erroneas',\n",
       " '/Libro/9789877363838/El+Planner+De+Lyna',\n",
       " '/Libro/9789877389753/El+Tiempo+De+Las+Moscas',\n",
       " '/Libro/9789878281445/La+Segunda+Venida+De+Hilda+Bustamante']"
      ]
     },
     "execution_count": 30,
     "metadata": {},
     "output_type": "execute_result"
    }
   ],
   "source": [
    "urls"
   ]
  },
  {
   "cell_type": "code",
   "execution_count": 28,
   "metadata": {},
   "outputs": [
    {
     "data": {
      "text/plain": [
       "['https://www.cuspide.com/Libro/9788484456810/Este+Dolor+No+Es+Mio',\n",
       " 'https://www.cuspide.com/Libro/9789877364262/Una+Familia+Anormal',\n",
       " 'https://www.cuspide.com/Libro/9789504977384/La+Ultima+Encrucijada',\n",
       " 'https://www.cuspide.com/Libro/9789504979456/Born+Y+Quieto',\n",
       " 'https://www.cuspide.com/Libro/9789500769013/El+Viento+Conoce+Mi+Nombre',\n",
       " 'https://www.cuspide.com/Libro/9789508701985/Pato+Horneado+Y+El+Rescate+En+La+Jungla',\n",
       " 'https://www.cuspide.com/Libro/9789878151885/Gaturro+Messi',\n",
       " 'https://www.cuspide.com/Libro/9789878266374/Nosotros+Dos+En+La+Tormenta',\n",
       " 'https://www.cuspide.com/Libro/9789877188158/Pais+De+Mierda',\n",
       " 'https://www.cuspide.com/Libro/9788425432026/El+Hombre+En+Busca+De+Sentido',\n",
       " 'https://www.cuspide.com/Libro/9789878151632/La+Scaloneta',\n",
       " 'https://www.cuspide.com/Libro/9789877478877/Solitario',\n",
       " 'https://www.cuspide.com/Libro/9789877950465/El+Poder+De+Las+Palabras',\n",
       " 'https://www.cuspide.com/Libro/9789501298321/Habitos+Atomicos',\n",
       " 'https://www.cuspide.com/Libro/9789504982982/Alas+De+Sangre',\n",
       " 'https://www.cuspide.com/Libro/9789504982067/Tengase+Presente',\n",
       " 'https://www.cuspide.com/Libro/9789500213998/La+Vaca+No+Se+Calla',\n",
       " 'https://www.cuspide.com/Libro/9789501204070/El+Amor+Es+Imposible',\n",
       " 'https://www.cuspide.com/Libro/9789500769228/Conurbano+Salvaje',\n",
       " 'https://www.cuspide.com/Libro/9789877391695/Un+Cuento+Perfecto',\n",
       " 'https://www.cuspide.com/Libro/9789878220079/El+Duelo+(+Cuando+El+Dolor+Se+Hace+Carne+)',\n",
       " 'https://www.cuspide.com/Libro/9789877475876/Heartstopper',\n",
       " 'https://www.cuspide.com/Libro/9789877479102/Este+Invierno',\n",
       " 'https://www.cuspide.com/Libro/9789507880223/Los+Cuatro+Acuerdos',\n",
       " 'https://www.cuspide.com/Libro/9789506446840/La+Aventura',\n",
       " 'https://www.cuspide.com/Libro/9789878940182/Dibu+Martinez+++Pasion+Por+El+Futbol',\n",
       " 'https://www.cuspide.com/Libro/9789874892508/Mis+Dias+En+La+Libreria+Morisaki',\n",
       " 'https://www.cuspide.com/Libro/9789878151335/Messi+++Campeon+Del+Mundo',\n",
       " 'https://www.cuspide.com/Libro/9789506446567/Antes+De+Que+Se+Enfrie+El+Cafe',\n",
       " 'https://www.cuspide.com/Libro/9789504979395/Adios+Cachorra',\n",
       " 'https://www.cuspide.com/Libro/9789504979043/Los+Guemes',\n",
       " 'https://www.cuspide.com/Libro/9789877801750/Muchas+Vidas+++Muchos+Maestros',\n",
       " 'https://www.cuspide.com/Libro/9788413621654/La+Biblioteca+De+La+Medianoche',\n",
       " 'https://www.cuspide.com/Libro/9788433998064/Las+Cosas+Que+Perdimos+En+El+Fuego',\n",
       " 'https://www.cuspide.com/Libro/9788413622132/La+Cancion+De+Aquiles',\n",
       " 'https://www.cuspide.com/Libro/9789877476583/Heartstopper+2',\n",
       " 'https://www.cuspide.com/Libro/9789874063656/Cometierra+10+Edic',\n",
       " 'https://www.cuspide.com/Libro/9789878474670/El+Secreto+De+Paris',\n",
       " 'https://www.cuspide.com/Libro/9789874777737/Los+Siete+Maridos+De+Evelyn+Hugo',\n",
       " 'https://www.cuspide.com/Libro/9789501296808/Destroza+Este+Diario+(+A+Todo+Color+)',\n",
       " 'https://www.cuspide.com/Libro/9789877364026/Las+Aventuras+De+Lyna+Y+Dani+++Elige+Tu+Historia',\n",
       " 'https://www.cuspide.com/Libro/9789500768757/Sarmiento',\n",
       " 'https://www.cuspide.com/Libro/9789504981107/Apia+De+Roma',\n",
       " 'https://www.cuspide.com/Libro/9789504978251/Conocer+A+Peron',\n",
       " 'https://www.cuspide.com/Libro/9789877352306/El+Camino+Del+Artista',\n",
       " 'https://www.cuspide.com/Libro/9789877476972/Heartstopper+3',\n",
       " 'https://www.cuspide.com/Libro/9788433998248/Los+Peligros+De+Fumar+En+La+Cama',\n",
       " 'https://www.cuspide.com/Libro/9789506446758/La+Felicidad+Cabe+En+Una+Taza+De+Cafe',\n",
       " 'https://www.cuspide.com/Libro/9789875661318/Como+Ganar+Amigos+E+Influir+Sobre+Las+Personas',\n",
       " 'https://www.cuspide.com/Libro/9789877478235/Una+Luna+Sin+Miel',\n",
       " 'https://www.cuspide.com/Libro/9786313000319/Heartstopper+1++Edicion+Especial',\n",
       " 'https://www.cuspide.com/Libro/9789877353150/De+Donde+Vienen',\n",
       " 'https://www.cuspide.com/Libro/9789878977560/Mejor+Que+En+Las+Peliculas',\n",
       " 'https://www.cuspide.com/Libro/9789878266176/Miseria',\n",
       " 'https://www.cuspide.com/Libro/9789871786954/Steve+Jobs++Lecciones+De+Liderazgo',\n",
       " 'https://www.cuspide.com/Libro/9789873881602/Sana+A+Tus+Antepasados+Para+Sanar+Tu+Vida',\n",
       " 'https://www.cuspide.com/Libro/9789878204284/Elementos',\n",
       " 'https://www.cuspide.com/Libro/9789878988528/A+Jugar+Con+Los+Campeones',\n",
       " 'https://www.cuspide.com/Libro/9789877478242/Nick+Y+Charlie',\n",
       " 'https://www.cuspide.com/Libro/9789504962137/La+Bailarina+De+Auschwitz',\n",
       " 'https://www.cuspide.com/Libro/9789874729309/Los+Arboles+Caidos+Tambien+Son+Del+Bosque',\n",
       " 'https://www.cuspide.com/Libro/9789502814919/El+Monje+Que+Vendio+Su+Ferrari',\n",
       " 'https://www.cuspide.com/Libro/9789878151373/Gaturro+Campeones',\n",
       " 'https://www.cuspide.com/Libro/9789507883774/Ikigai++Vintage',\n",
       " 'https://www.cuspide.com/Libro/9786316508164/Desde+La+Boca',\n",
       " 'https://www.cuspide.com/Libro/9789878435435/Todo+Lo+Que+Nunca+Fuimos++(+Deja+Que+Ocurra+1+)_',\n",
       " 'https://www.cuspide.com/Libro/9788419743237/Messi+Crack',\n",
       " 'https://www.cuspide.com/Libro/9789876128506/Los+Vestidos+Amy+-+Stickers',\n",
       " 'https://www.cuspide.com/Libro/9789878473833/La+Interlengua',\n",
       " 'https://www.cuspide.com/Libro/9789507325878/Te+Espero+En+El+Fin+Del+Mundo',\n",
       " 'https://www.cuspide.com/Libro/9789502816272/Un+Ratito+Mas',\n",
       " 'https://www.cuspide.com/Libro/9789871524525/La+Revolucion+De+La+Glucosa',\n",
       " 'https://www.cuspide.com/Libro/9789876707800/Esta+No+Soy+Yo',\n",
       " 'https://www.cuspide.com/Libro/9788433901927/Fortuna',\n",
       " 'https://www.cuspide.com/Libro/9789877254990/El+Club+De+Las+5+De+La+Ma%c3%b1ana',\n",
       " 'https://www.cuspide.com/Libro/9789878000107/1++Harry+Potter+Y+La+Piedra+Filosofal+(+Bolsillo+)',\n",
       " 'https://www.cuspide.com/Libro/9789877477474/Heartstopper+4',\n",
       " 'https://www.cuspide.com/Libro/9789504981015/El+Nudo',\n",
       " 'https://www.cuspide.com/Libro/9788419743305/3++Five+Nights+At+Freddy+S+(+Escalofrios+De+Fazbear+)',\n",
       " 'https://www.cuspide.com/Libro/9789508702296/Compas+9++Los+Compas+Y+El+Despertar+De+La+Momia',\n",
       " 'https://www.cuspide.com/Libro/9789877933611/Codigo+Civil+Y+Comercial+De+La+Nacion+2023+(+Universitario+)',\n",
       " 'https://www.cuspide.com/Libro/9789504979050/Blanca+La+Ni+A+Que+Queria+Volar',\n",
       " 'https://www.cuspide.com/Libro/9788433998859/Nuestra+Parte+De+Noche',\n",
       " 'https://www.cuspide.com/Libro/9789878289953/El+Gato+Y+La+Ciudad',\n",
       " 'https://www.cuspide.com/Libro/9789504982791/El+Diablo',\n",
       " 'https://www.cuspide.com/Libro/9789875807020/La+Ridicula+Idea+De+No+Volver+A+Verte',\n",
       " 'https://www.cuspide.com/Libro/9789501206579/Los+7+Habitos+De+La+Gente+Altamente+Efectiva+(30+Aniversario)',\n",
       " 'https://www.cuspide.com/Libro/9789871138715/Tus+Zonas+Erroneas',\n",
       " 'https://www.cuspide.com/Libro/9789877363838/El+Planner+De+Lyna',\n",
       " 'https://www.cuspide.com/Libro/9789877389753/El+Tiempo+De+Las+Moscas',\n",
       " 'https://www.cuspide.com/Libro/9789878281445/La+Segunda+Venida+De+Hilda+Bustamante']"
      ]
     },
     "execution_count": 28,
     "metadata": {},
     "output_type": "execute_result"
    }
   ],
   "source": [
    "# We obtain complete urls\n",
    "urlsComp = []\n",
    "for i in range(0,len(urls)):\n",
    "    urlsComp.append('https://www.cuspide.com'+urls[i])\n",
    "\n",
    "urlsComp\n"
   ]
  },
  {
   "cell_type": "code",
   "execution_count": 82,
   "metadata": {},
   "outputs": [
    {
     "data": {
      "text/plain": [
       "<div class=\"md-precio\">\n",
       "<div class=\"column-left\">\n",
       "<div class=\"precio\" id=\"ctl00_ContentPlaceHolder1_rptFicha_ctl00_precioContainer\" itemprop=\"offers\" itemscope=\"\" itemtype=\"http://schema.org/Offer\">\n",
       "<meta content=\"ARS\" id=\"ctl00_ContentPlaceHolder1_rptFicha_ctl00_priceCurrency\" itemprop=\"priceCurrency\"/>\n",
       "<meta content=\"$4.199,00\" id=\"ctl00_ContentPlaceHolder1_rptFicha_ctl00_meta_price\" itemprop=\"price\"/>\n",
       "<div><span>AR$</span> 4.199,00</div><div><span>U$s</span> 14,07</div>\n",
       "</div>\n",
       "</div>\n",
       "<div class=\"column-right\">\n",
       "<a class=\"comprar papel\" data-autor=\"VALLEJOS LYNA.\" data-codigo=\"236826\" data-imagen=\"https://contentv2.tap-commerce.com/cover/large/9789877364262_1.jpg?id_com=1113\" data-precio=\"&lt;span&gt;AR$&lt;/span&gt; 4.199,00\" data-titulo=\"Una Familia Anormal\" href=\"javascript:void(0);\" id=\"ctl00_ContentPlaceHolder1_rptFicha_ctl00_a_comprar_novedades\" title=\"Comprar el libro Una Familia Anormal\">\n",
       "<img alt=\"comprar\" src=\"/images/btn-comprar.png\"/></a>\n",
       "</div>\n",
       "</div>"
      ]
     },
     "execution_count": 82,
     "metadata": {},
     "output_type": "execute_result"
    }
   ],
   "source": [
    "# PRICES\n",
    "\n",
    "# We store the entire HTML code of the page in the variable 'page1'\n",
    "page1 = requests.get('https://www.cuspide.com/Libro/9789877364262/Una+Familia+Anormal').text\n",
    "\n",
    "# We parse the HTML code using the 'html.parser' instruction of BeautifulSoup\n",
    "soup1 = BeautifulSoup(page1,\"html.parser\")\n",
    "\n",
    "# Find the div that contains the prices\n",
    "price_div = soup1.find('div', class_='md-precio')\n",
    "\n",
    "price_div\n"
   ]
  },
  {
   "cell_type": "code",
   "execution_count": 83,
   "metadata": {},
   "outputs": [
    {
     "data": {
      "text/plain": [
       "[<div class=\"precio\" id=\"ctl00_ContentPlaceHolder1_rptFicha_ctl00_precioContainer\" itemprop=\"offers\" itemscope=\"\" itemtype=\"http://schema.org/Offer\">\n",
       " <meta content=\"ARS\" id=\"ctl00_ContentPlaceHolder1_rptFicha_ctl00_priceCurrency\" itemprop=\"priceCurrency\"/>\n",
       " <meta content=\"$4.199,00\" id=\"ctl00_ContentPlaceHolder1_rptFicha_ctl00_meta_price\" itemprop=\"price\"/>\n",
       " <div><span>AR$</span> 4.199,00</div><div><span>U$s</span> 14,07</div>\n",
       " </div>]"
      ]
     },
     "execution_count": 83,
     "metadata": {},
     "output_type": "execute_result"
    }
   ],
   "source": [
    "# Find all the div elements within the price div\n",
    "price_elements = price_div.find_all('div', class_='precio')\n",
    "\n",
    "price_elements"
   ]
  },
  {
   "cell_type": "code",
   "execution_count": 84,
   "metadata": {},
   "outputs": [
    {
     "data": {
      "text/plain": [
       "'4.199,00'"
      ]
     },
     "execution_count": 84,
     "metadata": {},
     "output_type": "execute_result"
    }
   ],
   "source": [
    "# Get the text from the div elements and extract the prices in AR$ and US$\n",
    "ar_price = price_elements[0].find('div').get_text(strip=True)\n",
    "\n",
    "# Extract the numerical part of the AR$ price\n",
    "ar_priceNum = ar_price[3:]\n",
    "ar_priceNum"
   ]
  },
  {
   "cell_type": "code",
   "execution_count": 85,
   "metadata": {},
   "outputs": [
    {
     "data": {
      "text/plain": [
       "4199.0"
      ]
     },
     "execution_count": 85,
     "metadata": {},
     "output_type": "execute_result"
    }
   ],
   "source": [
    "# Remove the thousands separator (',') and replace the decimal separator ('.') to make it a valid floating-point number\n",
    "ar_priceNumFloat = ar_priceNum.replace('.','') # Remove the thousands separator\n",
    "ar_priceNumFloat = ar_priceNumFloat.replace(',','.') # Replace the decimal separator with a dot ('.')\n",
    "ar_priceNumFloat = float(ar_priceNumFloat) # Convert the modified string to a floating-point number\n",
    "ar_priceNumFloat # Return the resulting float value"
   ]
  },
  {
   "cell_type": "code",
   "execution_count": 86,
   "metadata": {},
   "outputs": [
    {
     "data": {
      "text/plain": [
       "14.07"
      ]
     },
     "execution_count": 86,
     "metadata": {},
     "output_type": "execute_result"
    }
   ],
   "source": [
    "# Extract the text of the next sibling element of the AR$ price element to obtain the US$ price\n",
    "us_price = price_elements[0].find('div').next_sibling.get_text(strip=True)\n",
    "\n",
    "# Extract the numerical part of the US$ price\n",
    "us_priceNum = us_price[3:]\n",
    "\n",
    "# Convert the numerical part of the US$ price to a floating-point number, replacing the decimal separator (',') with a dot ('.')\n",
    "us_priceNumFloat = float(us_priceNum.replace(',','.'))\n",
    "\n",
    "us_priceNumFloat # Return the resulting float value of the US$ price"
   ]
  },
  {
   "cell_type": "code",
   "execution_count": 93,
   "metadata": {},
   "outputs": [
    {
     "name": "stdout",
     "output_type": "stream",
     "text": [
      "https://www.cuspide.com/Libro/9788484456810/Este+Dolor+No+Es+Mio\n",
      "https://www.cuspide.com/Libro/9789877364262/Una+Familia+Anormal\n"
     ]
    }
   ],
   "source": [
    "# PRICES\n",
    "\n",
    "# We need to access the prices located on each URL\n",
    "precioAr = [] # Prices in Argentine Pesos (AR$)\n",
    "precioUs = [] # Prices in US Dollars (US$)\n",
    "for i in range(0,2):\n",
    "    \n",
    "    # We store the entire HTML code of the page in the 'page1' variable\n",
    "    page1 = requests.get(urlsComp[i]).text\n",
    "\n",
    "    # We parse the HTML code using the 'html.parser' instruction of BeautifulSoup\n",
    "    soup1 = BeautifulSoup(page1,\"html.parser\")\n",
    "\n",
    "    # Find the div that contains the prices\n",
    "    price_div = soup1.find('div', class_='md-precio')\n",
    "\n",
    "    # Find all the div elements within the price div\n",
    "    price_elements = price_div.find_all('div', class_='precio')\n",
    "\n",
    "    # Get the text from the div elements and extract the prices in AR$ and US$\n",
    "    ar_price = price_elements[0].find('div').get_text(strip=True)\n",
    "    us_price = price_elements[0].find('div').next_sibling.get_text(strip=True)\n",
    "\n",
    "    # Convert the text to floating-point numbers\n",
    "    ar_priceNum = ar_price[3:]\n",
    "    ar_priceNumFloat = ar_priceNum.replace('.','')\n",
    "    ar_priceNumFloat = float(ar_priceNumFloat.replace(',','.'))\n",
    "    \n",
    "    us_priceNum = us_price[3:]\n",
    "    us_priceNumFloat = float(us_priceNum.replace(',','.'))\n",
    "\n",
    "    # Store them in price variables\n",
    "    precioAr.append(ar_priceNumFloat)\n",
    "    precioUs.append(us_priceNumFloat)"
   ]
  },
  {
   "cell_type": "code",
   "execution_count": 94,
   "metadata": {},
   "outputs": [
    {
     "data": {
      "text/plain": [
       "[7900.0, 4199.0]"
      ]
     },
     "execution_count": 94,
     "metadata": {},
     "output_type": "execute_result"
    }
   ],
   "source": [
    "precioAr"
   ]
  },
  {
   "cell_type": "code",
   "execution_count": 110,
   "metadata": {},
   "outputs": [
    {
     "data": {
      "text/plain": [
       "'Aug 15, 2023 00:20 UTC'"
      ]
     },
     "execution_count": 110,
     "metadata": {},
     "output_type": "execute_result"
    }
   ],
   "source": [
    "# EURO PRICE\n",
    "# We need to obtain the EURUSD conversion rate from the following page\n",
    "# https://www.forbes.com/advisor/money-transfer/currency-converter/eur-usd/\n",
    "\n",
    "# We store the entire HTML code of the page in the 'page2' variable\n",
    "page2 = requests.get('https://www.forbes.com/advisor/money-transfer/currency-converter/eur-usd/').text\n",
    "\n",
    "# We parse the HTML code using the 'html.parser' instruction of BeautifulSoup\n",
    "soup2 = BeautifulSoup(page2,\"html.parser\")\n",
    "\n",
    "# Find the div that contains the exchange rate\n",
    "price_div = soup2.find('div', class_='hero-template_content').strong.get_text(strip=True)[8:15]\n",
    "price_div # Extract the exchange rate value\n",
    "\n",
    "# Find the div that contains the date\n",
    "fecha_div = soup2.find('div', class_='hero-template_content').time.get_text(strip=True)\n",
    "fecha_div # Extract the date value"
   ]
  },
  {
   "cell_type": "code",
   "execution_count": 118,
   "metadata": {},
   "outputs": [
    {
     "data": {
      "text/plain": [
       "'2023-08-14 00:00:00'"
      ]
     },
     "execution_count": 118,
     "metadata": {},
     "output_type": "execute_result"
    }
   ],
   "source": [
    "# Extract the date as a TIMESTAMP\n",
    "\n",
    "# Import the datetime module\n",
    "import datetime\n",
    "\n",
    "# Get the current date\n",
    "today = datetime.date.today()\n",
    "\n",
    "# Create a time object with default time values\n",
    "t = datetime.time()\n",
    "\n",
    "# Combine the current date and the default time to create a TIMESTAMP\n",
    "fecha = str(today)+' '+ str(t)\n",
    "\n",
    "# The 'fecha' variable now contains the current date and time as a TIMESTAMP\n",
    "fecha"
   ]
  },
  {
   "cell_type": "code",
   "execution_count": 155,
   "metadata": {},
   "outputs": [],
   "source": [
    "# Establish the connection between SQL and Python\n",
    "\n",
    "# Import the pymysql module for MySQL database interaction\n",
    "import pymysql\n",
    "\n",
    "# Set up a connection to the database server\n",
    "with open('textos.txt') as archivo_claves:\n",
    "    claves = [clave.strip() for clave in archivo_claves]\n",
    "\n",
    "# Create a connection to the database using the credentials from 'textos.txt'\n",
    "conexion = pymysql.connect( host = claves[0],\n",
    "                            user = claves[1],\n",
    "                            passwd = claves[2],\n",
    "                            db = claves[3])\n",
    "\n",
    "# Create a cursor object for executing SQL queries\n",
    "cursor = conexion.cursor()\n"
   ]
  },
  {
   "cell_type": "markdown",
   "metadata": {},
   "source": [
    "Now, we put all together:"
   ]
  },
  {
   "cell_type": "code",
   "execution_count": 157,
   "metadata": {},
   "outputs": [
    {
     "name": "stdout",
     "output_type": "stream",
     "text": [
      "> Borramos las tablas existentes del Database.\n",
      "> Creamos las dos tablas donde  irán los resultados.\n"
     ]
    },
    {
     "data": {
      "text/plain": [
       "0"
      ]
     },
     "execution_count": 157,
     "metadata": {},
     "output_type": "execute_result"
    }
   ],
   "source": [
    "# Establish the connection between SQL and Python\n",
    "\n",
    "# Import the pymysql module for MySQL database interaction\n",
    "import pymysql\n",
    "\n",
    "# Set up a connection to the database server\n",
    "with open('textos.txt') as archivo_claves:\n",
    "    claves = [clave.strip() for clave in archivo_claves]\n",
    "\n",
    "# Create a connection to the database using the credentials from 'textos.txt'\n",
    "conexion = pymysql.connect( host = claves[0],\n",
    "                            user = claves[1],\n",
    "                            passwd = claves[2],\n",
    "                            db = claves[3])\n",
    "\n",
    "\n",
    "# Create a cursor object for executing SQL queries\n",
    "cursor = conexion.cursor()\n",
    "\n",
    "# Erase tables is exist\n",
    "print('> We erase all the existing tables in the Database.')\n",
    "sqlDropTable = \"DROP TABLE IF EXISTS libro;\"\n",
    "sqlDropTable2 = \"DROP TABLE IF EXISTS audit_libro;\"\n",
    "cursor.execute(sqlDropTable)\n",
    "cursor.execute(sqlDropTable2)\n",
    "\n",
    "#Crea tablas\n",
    "print('> We create both tables to insert the results.')\n",
    "sqlCreateTable = \"\"\"CREATE TABLE IF NOT EXISTS libro (\n",
    "\tIdLibro  \tINT AUTO_INCREMENT,\n",
    "    Titulo    \tVARCHAR(100),\n",
    "    URL       \tVARCHAR(300),\n",
    "    PrecioARS\tFLOAT,\n",
    "    PrecioUSD\tFLOAT,\n",
    "    PrecioEUR\tFLOAT,\n",
    "    Fecha\t\tTIMESTAMP,\n",
    "    PRIMARY KEY(IdLibro)\n",
    ");\"\"\"\n",
    "sqlCreateTable2 = \"\"\"CREATE TABLE IF NOT EXISTS audit_libro (\n",
    "\tIdError  \tINT AUTO_INCREMENT,\n",
    "    Titulo    \tVARCHAR(100),\n",
    "    URL       \tVARCHAR(300),\n",
    "    Fecha\t\tTIMESTAMP,\n",
    "    PRIMARY KEY(IdError)\n",
    ");\"\"\"\n",
    "cursor.execute(sqlCreateTable)\n",
    "cursor.execute(sqlCreateTable2)\n"
   ]
  },
  {
   "cell_type": "code",
   "execution_count": 158,
   "metadata": {},
   "outputs": [
    {
     "name": "stdout",
     "output_type": "stream",
     "text": [
      "Una Familia Anormal\n",
      "https://www.cuspide.com/Libro/9789877364262/Una+Familia+Anormal\n",
      "4199.0\n",
      "14.07\n",
      "15.35\n",
      "2023-08-14 22:59:50\n"
     ]
    }
   ],
   "source": [
    "# Now we perform web scraping\n",
    "\n",
    "# Import necessary libraries for web scraping\n",
    "import requests\n",
    "from bs4 import BeautifulSoup\n",
    "import numpy as np\n",
    "import datetime\n",
    "import time\n",
    "\n",
    "# Get the HTML code of the page and store it in the 'page' variable\n",
    "page = requests.get('https://www.cuspide.com/cienmasvendidos').text\n",
    "\n",
    "# Parse the HTML code using the 'html.parser' instruction of BeautifulSoup\n",
    "soup = BeautifulSoup(page,\"html.parser\")\n",
    "\n",
    "# Find and store all 'Article' sections in the 'articles' variable\n",
    "articles = soup.find_all('article')\n",
    "\n",
    "# Loop through a subset of articles and extract data\n",
    "for article in articles[:2]:\n",
    "    titulo = article.find('a')['title']\n",
    "    url = 'https://www.cuspide.com' + article.find('a')['href']\n",
    "\n",
    "    # Access each URL to obtain prices\n",
    "    page1 = requests.get(url).text\n",
    "\n",
    "    # Parse the HTML code of the page using 'html.parser' of BeautifulSoup\n",
    "    soup1 = BeautifulSoup(page1,\"html.parser\")\n",
    "\n",
    "    # Find the div containing the prices\n",
    "    price_div = soup1.find('div', class_='md-precio')\n",
    "\n",
    "    # Find all div elements within the price div\n",
    "    price_elements = price_div.find_all('div', class_='precio')\n",
    "\n",
    "    # Get the text from the div elements and extract prices in AR$ and US$\n",
    "    ar_price = price_elements[0].find('div').get_text(strip=True)\n",
    "    us_price = price_elements[0].find('div').next_sibling.get_text(strip=True)\n",
    "\n",
    "    # Convert text to float numbers\n",
    "    ar_priceNum = ar_price[3:]\n",
    "    ar_priceNumFloat = ar_priceNum.replace('.','')\n",
    "    ar_priceNumFloat = float(ar_priceNumFloat.replace(',','.'))\n",
    "    \n",
    "    us_priceNum = us_price[3:]\n",
    "    us_priceNumFloat = float(us_priceNum.replace(',','.'))\n",
    "\n",
    "    # Store prices in variables\n",
    "    precioARS = ar_priceNumFloat\n",
    "    precioUSD = us_priceNumFloat\n",
    "\n",
    "    # EURO PRICE\n",
    "    # Extract the EURUSD conversion from the given page\n",
    "    # https://www.forbes.com/advisor/money-transfer/currency-converter/eur-usd/\n",
    "\n",
    "    # Get the HTML code of the page and store it in the 'page2' variable\n",
    "    page2 = requests.get('https://www.forbes.com/advisor/money-transfer/currency-converter/eur-usd/').text\n",
    "\n",
    "    # Parse the HTML code using 'html.parser' of BeautifulSoup\n",
    "    soup2 = BeautifulSoup(page2,\"html.parser\")\n",
    "\n",
    "    # Find the div containing the exchange rate\n",
    "    precioEUR = round(precioUSD*float(soup2.find('div', class_='hero-template_content').strong.get_text(strip=True)[8:15]),2)\n",
    "\n",
    "    # Get the current date and time as a TIMESTAMP\n",
    "    today = datetime.date.today()\n",
    "    t = time.localtime()\n",
    "    current_time = time.strftime(\"%H:%M:%S\", t)\n",
    "    fecha = str(today)+' '+ str(current_time)\n",
    "\n",
    "    # Create an INSERT statement to insert data into the MySQL 'libro' table\n",
    "    cursor.execute(\"INSERT INTO libro(Titulo,URL,PrecioARS,PrecioUSD,PrecioEUR,Fecha) VALUES (%s,%s,%s,%s,%s,%s);\",(titulo,url,precioARS,precioUSD,precioEUR,fecha))\n",
    "\n",
    "# Commit the changes to the database and close the connection\n",
    "conexion.commit()\n",
    "conexion.close()\n",
    "\n",
    "# Print extracted data for the last article (outside the loop)\n",
    "print(titulo)\n",
    "print(url)\n",
    "print(precioARS)\n",
    "print(precioUSD)\n",
    "print(precioEUR)\n",
    "print(fecha)\n",
    "\n"
   ]
  }
 ],
 "metadata": {
  "kernelspec": {
   "display_name": "Python 3",
   "language": "python",
   "name": "python3"
  },
  "language_info": {
   "codemirror_mode": {
    "name": "ipython",
    "version": 3
   },
   "file_extension": ".py",
   "mimetype": "text/x-python",
   "name": "python",
   "nbconvert_exporter": "python",
   "pygments_lexer": "ipython3",
   "version": "3.11.3"
  },
  "orig_nbformat": 4
 },
 "nbformat": 4,
 "nbformat_minor": 2
}
